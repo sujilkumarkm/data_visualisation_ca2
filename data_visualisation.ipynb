{
 "cells": [
  {
   "cell_type": "code",
   "execution_count": 1,
   "metadata": {
    "scrolled": false
   },
   "outputs": [
    {
     "data": {
      "text/html": [
       "<div>\n",
       "<style scoped>\n",
       "    .dataframe tbody tr th:only-of-type {\n",
       "        vertical-align: middle;\n",
       "    }\n",
       "\n",
       "    .dataframe tbody tr th {\n",
       "        vertical-align: top;\n",
       "    }\n",
       "\n",
       "    .dataframe thead th {\n",
       "        text-align: right;\n",
       "    }\n",
       "</style>\n",
       "<table border=\"1\" class=\"dataframe\">\n",
       "  <thead>\n",
       "    <tr style=\"text-align: right;\">\n",
       "      <th></th>\n",
       "      <th>Shot_ID</th>\n",
       "      <th>Game</th>\n",
       "      <th>Events</th>\n",
       "      <th>County</th>\n",
       "      <th>Province</th>\n",
       "      <th>Shot Type</th>\n",
       "      <th>Set Play</th>\n",
       "      <th>Shot Outcome</th>\n",
       "      <th>Shot Pressure</th>\n",
       "      <th>Assist Type</th>\n",
       "      <th>Build Up Passes</th>\n",
       "      <th>Shot Method</th>\n",
       "      <th>Match Outcome</th>\n",
       "      <th>Winning Margin</th>\n",
       "      <th>Championship Stage</th>\n",
       "      <th>Distance from Goal</th>\n",
       "      <th>Angle</th>\n",
       "    </tr>\n",
       "  </thead>\n",
       "  <tbody>\n",
       "    <tr>\n",
       "      <th>0</th>\n",
       "      <td>Shot_1</td>\n",
       "      <td>Armagh v Cavan</td>\n",
       "      <td>Shot</td>\n",
       "      <td>Cavan</td>\n",
       "      <td>Ulster</td>\n",
       "      <td>Point Attempt</td>\n",
       "      <td>Free Kick from Hands</td>\n",
       "      <td>Point</td>\n",
       "      <td>Low</td>\n",
       "      <td>Free Kick Won</td>\n",
       "      <td>8.0</td>\n",
       "      <td>Left Foot</td>\n",
       "      <td>Draw</td>\n",
       "      <td>Draw</td>\n",
       "      <td>Provincial Championship</td>\n",
       "      <td>14.56022</td>\n",
       "      <td>-15.945396</td>\n",
       "    </tr>\n",
       "    <tr>\n",
       "      <th>1</th>\n",
       "      <td>Shot_2</td>\n",
       "      <td>Armagh v Cavan</td>\n",
       "      <td>Shot</td>\n",
       "      <td>Armagh</td>\n",
       "      <td>Ulster</td>\n",
       "      <td>Goal Attempt</td>\n",
       "      <td>Open Play</td>\n",
       "      <td>Wide</td>\n",
       "      <td>Low</td>\n",
       "      <td>Hand Pass</td>\n",
       "      <td>4.0</td>\n",
       "      <td>Right Foot</td>\n",
       "      <td>Draw</td>\n",
       "      <td>Draw</td>\n",
       "      <td>Provincial Championship</td>\n",
       "      <td>11.18034</td>\n",
       "      <td>26.565051</td>\n",
       "    </tr>\n",
       "  </tbody>\n",
       "</table>\n",
       "</div>"
      ],
      "text/plain": [
       "  Shot_ID            Game Events  County Province      Shot Type  \\\n",
       "0  Shot_1  Armagh v Cavan   Shot   Cavan   Ulster  Point Attempt   \n",
       "1  Shot_2  Armagh v Cavan   Shot  Armagh   Ulster   Goal Attempt   \n",
       "\n",
       "               Set Play Shot Outcome Shot Pressure    Assist Type  \\\n",
       "0  Free Kick from Hands        Point           Low  Free Kick Won   \n",
       "1             Open Play         Wide           Low      Hand Pass   \n",
       "\n",
       "   Build Up Passes Shot Method Match Outcome Winning Margin  \\\n",
       "0              8.0   Left Foot          Draw           Draw   \n",
       "1              4.0  Right Foot          Draw           Draw   \n",
       "\n",
       "        Championship Stage  Distance from Goal      Angle  \n",
       "0  Provincial Championship            14.56022 -15.945396  \n",
       "1  Provincial Championship            11.18034  26.565051  "
      ]
     },
     "execution_count": 1,
     "metadata": {},
     "output_type": "execute_result"
    }
   ],
   "source": [
    "import pandas as pd\n",
    "\n",
    "df = pd.read_csv('E:\\\\Data_Visualization\\\\data_visualisation_ca2_dkit\\\\master_data.csv')\n",
    "df.head(2)"
   ]
  },
  {
   "cell_type": "code",
   "execution_count": 2,
   "metadata": {},
   "outputs": [
    {
     "name": "stdout",
     "output_type": "stream",
     "text": [
      "<class 'pandas.core.frame.DataFrame'>\n",
      "RangeIndex: 162 entries, 0 to 161\n",
      "Data columns (total 17 columns):\n",
      " #   Column              Non-Null Count  Dtype  \n",
      "---  ------              --------------  -----  \n",
      " 0   Shot_ID             162 non-null    object \n",
      " 1   Game                162 non-null    object \n",
      " 2   Events              162 non-null    object \n",
      " 3   County              162 non-null    object \n",
      " 4   Province            162 non-null    object \n",
      " 5   Shot Type           162 non-null    object \n",
      " 6   Set Play            162 non-null    object \n",
      " 7   Shot Outcome        162 non-null    object \n",
      " 8   Shot Pressure       162 non-null    object \n",
      " 9   Assist Type         162 non-null    object \n",
      " 10  Build Up Passes     159 non-null    float64\n",
      " 11  Shot Method         162 non-null    object \n",
      " 12  Match Outcome       162 non-null    object \n",
      " 13  Winning Margin      162 non-null    object \n",
      " 14  Championship Stage  162 non-null    object \n",
      " 15  Distance from Goal  162 non-null    float64\n",
      " 16  Angle               162 non-null    float64\n",
      "dtypes: float64(3), object(14)\n",
      "memory usage: 21.6+ KB\n"
     ]
    }
   ],
   "source": [
    "df.info()"
   ]
  },
  {
   "cell_type": "code",
   "execution_count": 8,
   "metadata": {},
   "outputs": [
    {
     "data": {
      "text/plain": [
       "(162, 17)"
      ]
     },
     "execution_count": 8,
     "metadata": {},
     "output_type": "execute_result"
    }
   ],
   "source": [
    "# checking the size of the dataset\n",
    "df.shape"
   ]
  },
  {
   "cell_type": "code",
   "execution_count": 7,
   "metadata": {
    "scrolled": true
   },
   "outputs": [
    {
     "data": {
      "text/plain": [
       "Index(['shot_id', 'game', 'events', 'county', 'province', 'shot type',\n",
       "       'set play', 'shot outcome', 'shot pressure', 'assist type',\n",
       "       'build up passes', 'shot method', 'match outcome', 'winning margin',\n",
       "       'championship stage', 'distance from goal', 'angle'],\n",
       "      dtype='object')"
      ]
     },
     "execution_count": 7,
     "metadata": {},
     "output_type": "execute_result"
    }
   ],
   "source": [
    "# rename Pandas columns to lower case\n",
    "df.columns= df.columns.str.lower()\n",
    "df.columns"
   ]
  },
  {
   "cell_type": "code",
   "execution_count": 9,
   "metadata": {
    "scrolled": false
   },
   "outputs": [
    {
     "data": {
      "text/plain": [
       "Index(['shot_id', 'game', 'events', 'county', 'province', 'shot_type',\n",
       "       'set_play', 'shot_outcome', 'shot_pressure', 'assist_type',\n",
       "       'build_up_passes', 'shot_method', 'match_outcome', 'winning_margin',\n",
       "       'championship_stage', 'distance_from_goal', 'angle'],\n",
       "      dtype='object')"
      ]
     },
     "execution_count": 9,
     "metadata": {},
     "output_type": "execute_result"
    }
   ],
   "source": [
    "# remove columns names and replace space with '_'\n",
    "df.columns = df.columns.str.replace(' ','_')\n",
    "df.columns"
   ]
  },
  {
   "cell_type": "code",
   "execution_count": 11,
   "metadata": {
    "scrolled": false
   },
   "outputs": [
    {
     "data": {
      "text/html": [
       "<div>\n",
       "<style scoped>\n",
       "    .dataframe tbody tr th:only-of-type {\n",
       "        vertical-align: middle;\n",
       "    }\n",
       "\n",
       "    .dataframe tbody tr th {\n",
       "        vertical-align: top;\n",
       "    }\n",
       "\n",
       "    .dataframe thead th {\n",
       "        text-align: right;\n",
       "    }\n",
       "</style>\n",
       "<table border=\"1\" class=\"dataframe\">\n",
       "  <thead>\n",
       "    <tr style=\"text-align: right;\">\n",
       "      <th></th>\n",
       "      <th>build_up_passes</th>\n",
       "      <th>distance_from_goal</th>\n",
       "      <th>angle</th>\n",
       "    </tr>\n",
       "  </thead>\n",
       "  <tbody>\n",
       "    <tr>\n",
       "      <th>count</th>\n",
       "      <td>159.000000</td>\n",
       "      <td>162.000000</td>\n",
       "      <td>162.000000</td>\n",
       "    </tr>\n",
       "    <tr>\n",
       "      <th>mean</th>\n",
       "      <td>6.050314</td>\n",
       "      <td>31.232769</td>\n",
       "      <td>2.962533</td>\n",
       "    </tr>\n",
       "    <tr>\n",
       "      <th>std</th>\n",
       "      <td>5.216574</td>\n",
       "      <td>11.003470</td>\n",
       "      <td>35.736869</td>\n",
       "    </tr>\n",
       "    <tr>\n",
       "      <th>min</th>\n",
       "      <td>0.000000</td>\n",
       "      <td>4.000000</td>\n",
       "      <td>-73.300756</td>\n",
       "    </tr>\n",
       "    <tr>\n",
       "      <th>25%</th>\n",
       "      <td>2.000000</td>\n",
       "      <td>22.039717</td>\n",
       "      <td>-24.201214</td>\n",
       "    </tr>\n",
       "    <tr>\n",
       "      <th>50%</th>\n",
       "      <td>5.000000</td>\n",
       "      <td>33.066659</td>\n",
       "      <td>0.000000</td>\n",
       "    </tr>\n",
       "    <tr>\n",
       "      <th>75%</th>\n",
       "      <td>9.000000</td>\n",
       "      <td>39.597980</td>\n",
       "      <td>31.948176</td>\n",
       "    </tr>\n",
       "    <tr>\n",
       "      <th>max</th>\n",
       "      <td>29.000000</td>\n",
       "      <td>54.589376</td>\n",
       "      <td>69.676863</td>\n",
       "    </tr>\n",
       "  </tbody>\n",
       "</table>\n",
       "</div>"
      ],
      "text/plain": [
       "       build_up_passes  distance_from_goal       angle\n",
       "count       159.000000          162.000000  162.000000\n",
       "mean          6.050314           31.232769    2.962533\n",
       "std           5.216574           11.003470   35.736869\n",
       "min           0.000000            4.000000  -73.300756\n",
       "25%           2.000000           22.039717  -24.201214\n",
       "50%           5.000000           33.066659    0.000000\n",
       "75%           9.000000           39.597980   31.948176\n",
       "max          29.000000           54.589376   69.676863"
      ]
     },
     "execution_count": 11,
     "metadata": {},
     "output_type": "execute_result"
    }
   ],
   "source": [
    "df.describe()"
   ]
  },
  {
   "cell_type": "code",
   "execution_count": 12,
   "metadata": {},
   "outputs": [
    {
     "data": {
      "text/html": [
       "<div>\n",
       "<style scoped>\n",
       "    .dataframe tbody tr th:only-of-type {\n",
       "        vertical-align: middle;\n",
       "    }\n",
       "\n",
       "    .dataframe tbody tr th {\n",
       "        vertical-align: top;\n",
       "    }\n",
       "\n",
       "    .dataframe thead th {\n",
       "        text-align: right;\n",
       "    }\n",
       "</style>\n",
       "<table border=\"1\" class=\"dataframe\">\n",
       "  <thead>\n",
       "    <tr style=\"text-align: right;\">\n",
       "      <th></th>\n",
       "      <th>shot_id</th>\n",
       "      <th>game</th>\n",
       "      <th>events</th>\n",
       "      <th>county</th>\n",
       "      <th>province</th>\n",
       "      <th>shot_type</th>\n",
       "      <th>set_play</th>\n",
       "      <th>shot_outcome</th>\n",
       "      <th>shot_pressure</th>\n",
       "      <th>assist_type</th>\n",
       "      <th>build_up_passes</th>\n",
       "      <th>shot_method</th>\n",
       "      <th>match_outcome</th>\n",
       "      <th>winning_margin</th>\n",
       "      <th>championship_stage</th>\n",
       "      <th>distance_from_goal</th>\n",
       "      <th>angle</th>\n",
       "    </tr>\n",
       "  </thead>\n",
       "  <tbody>\n",
       "    <tr>\n",
       "      <th>0</th>\n",
       "      <td>Shot_1</td>\n",
       "      <td>Armagh v Cavan</td>\n",
       "      <td>Shot</td>\n",
       "      <td>Cavan</td>\n",
       "      <td>Ulster</td>\n",
       "      <td>Point Attempt</td>\n",
       "      <td>Free Kick from Hands</td>\n",
       "      <td>Point</td>\n",
       "      <td>Low</td>\n",
       "      <td>Free Kick Won</td>\n",
       "      <td>8.0</td>\n",
       "      <td>Left Foot</td>\n",
       "      <td>Draw</td>\n",
       "      <td>Draw</td>\n",
       "      <td>Provincial Championship</td>\n",
       "      <td>14.56022</td>\n",
       "      <td>-15.945396</td>\n",
       "    </tr>\n",
       "    <tr>\n",
       "      <th>1</th>\n",
       "      <td>Shot_2</td>\n",
       "      <td>Armagh v Cavan</td>\n",
       "      <td>Shot</td>\n",
       "      <td>Armagh</td>\n",
       "      <td>Ulster</td>\n",
       "      <td>Goal Attempt</td>\n",
       "      <td>Open Play</td>\n",
       "      <td>Wide</td>\n",
       "      <td>Low</td>\n",
       "      <td>Hand Pass</td>\n",
       "      <td>4.0</td>\n",
       "      <td>Right Foot</td>\n",
       "      <td>Draw</td>\n",
       "      <td>Draw</td>\n",
       "      <td>Provincial Championship</td>\n",
       "      <td>11.18034</td>\n",
       "      <td>26.565051</td>\n",
       "    </tr>\n",
       "  </tbody>\n",
       "</table>\n",
       "</div>"
      ],
      "text/plain": [
       "  shot_id            game events  county province      shot_type  \\\n",
       "0  Shot_1  Armagh v Cavan   Shot   Cavan   Ulster  Point Attempt   \n",
       "1  Shot_2  Armagh v Cavan   Shot  Armagh   Ulster   Goal Attempt   \n",
       "\n",
       "               set_play shot_outcome shot_pressure    assist_type  \\\n",
       "0  Free Kick from Hands        Point           Low  Free Kick Won   \n",
       "1             Open Play         Wide           Low      Hand Pass   \n",
       "\n",
       "   build_up_passes shot_method match_outcome winning_margin  \\\n",
       "0              8.0   Left Foot          Draw           Draw   \n",
       "1              4.0  Right Foot          Draw           Draw   \n",
       "\n",
       "        championship_stage  distance_from_goal      angle  \n",
       "0  Provincial Championship            14.56022 -15.945396  \n",
       "1  Provincial Championship            11.18034  26.565051  "
      ]
     },
     "execution_count": 12,
     "metadata": {},
     "output_type": "execute_result"
    }
   ],
   "source": [
    "df.head(2)"
   ]
  },
  {
   "cell_type": "code",
   "execution_count": 37,
   "metadata": {
    "scrolled": false
   },
   "outputs": [
    {
     "data": {
      "image/png": "[encoded data removed]",
      "text/plain": [
       "<Figure size 720x360 with 1 Axes>"
      ]
     },
     "metadata": {
      "needs_background": "light"
     },
     "output_type": "display_data"
    }
   ],
   "source": [
    "fig = plt.figure(figsize =(10, 5))\n",
    "# Creating plot\n",
    "boxplot = df.boxplot(column=['angle', 'distance_from_goal','build_up_passes'])  \n",
    "plt.show()"
   ]
  },
  {
   "cell_type": "code",
   "execution_count": 39,
   "metadata": {
    "scrolled": true
   },
   "outputs": [
    {
     "data": {
      "application/vnd.plotly.v1+json": {
       "config": {
        "plotlyServerURL": "https://plot.ly"
       },
       "data": [
        {
         "alignmentgroup": "True",
         "bingroup": "y",
         "histfunc": "sum",
         "hovertemplate": "sum of distance_from_goal=%{x}<br>shot_outcome=%{y}<extra></extra>",
         "legendgroup": "",
         "marker": {
          "color": "#636efa",
          "pattern": {
           "shape": ""
          }
         },
         "name": "",
         "offsetgroup": "",
         "orientation": "h",
         "showlegend": false,
         "type": "histogram",
         "x": [
          14.56021978,
          11.18033989,
          34.20526275,
          20.24845673,
          32.24903099,
          29.12043956,
          41.14608122,
          27.80287755,
          36.12478374,
          36.76955262,
          37.58989226,
          33.61547263,
          39.8246155,
          31.38470965,
          15.65247584,
          29.68164416,
          36.40054945,
          26.07680962,
          37.44329045,
          32.14031736,
          27.20294102,
          39.59797975,
          22,
          32.24903099,
          51.623638,
          25.96150997,
          39.81205847,
          18.11077028,
          31.06444913,
          20.24845673,
          36.76955262,
          41.18252056,
          12.36931688,
          47.85394446,
          33.61547263,
          36.40054945,
          15.65247584,
          38.60051813,
          37.48332963,
          42.3792402,
          34.0147027,
          37.33630941,
          38,
          40.19950248,
          29.69848481,
          42.19004622,
          14.2126704,
          18.68154169,
          34.525353,
          41.23105626,
          20.59126028,
          38.20994635,
          40.52159918,
          41.48493703,
          25.05992817,
          30.8058436,
          36.23534186,
          38.47076812,
          41,
          34,
          26.92582404,
          36.61966685,
          30.88689042,
          22.09072203,
          34.71310992,
          52.34500931,
          42.20189569,
          40.04996879,
          19.02629759,
          16.2788206,
          30.59411708,
          41.03656906,
          4,
          21.09502311,
          54.58937626,
          37.01351105,
          34.05877273,
          47.80167361,
          29.73213749,
          30.52867504,
          20.80865205,
          39.11521443,
          17.02938637,
          21.21320344,
          46,
          46.09772229,
          41.62931659,
          22.20360331,
          46,
          35.60898763,
          6.403124237,
          28.7923601,
          30,
          16.15549442,
          42.19004622,
          32.24903099,
          11.66190379,
          34.71310992,
          36.61966685,
          42,
          28.60069929,
          32.75667871,
          29.96664813,
          25,
          22.47220505,
          33.83784863,
          19,
          42.80186912,
          8.062257748,
          36.40054945,
          32.52691193,
          32.24903099,
          22.627417,
          11,
          47.4341649,
          13.60147051,
          39.59797975,
          42.95346319,
          11.66190379,
          19.79898987,
          12.64911064,
          41.34005322,
          46.69047012,
          30.08321791,
          46.32493929,
          19.6468827,
          50.21951812,
          19.84943324,
          39.40812099,
          12.52996409,
          40.24922359,
          19.20937271,
          26.92582404,
          45.54119015,
          14.2126704,
          17.80449381,
          47.75981575,
          10.44030651,
          32.55764119,
          38.27531842,
          13.89244399,
          15.13274595,
          33.37663854,
          34.05877273,
          36.23534186,
          29.73213749,
          36.138622,
          37.10795063,
          14.86606875,
          35.60898763,
          35.4682957,
          17.80449381,
          29.41088234,
          22.02271555,
          28,
          25.61249695,
          41.14608122,
          32.55764119,
          45,
          39.62322551,
          43.8634244,
          51.03920062
         ],
         "xaxis": "x",
         "y": [
          "Point",
          "Wide",
          "Point",
          "Post",
          "Short",
          "Point",
          "Point",
          "Point",
          "Wide",
          "Short",
          "Point",
          "Point",
          "Point",
          "Wide",
          "Point",
          "Point",
          "Point",
          "Point",
          "Wide",
          "Wide",
          "Wide",
          "Wide",
          "Point",
          "Short",
          "Short",
          "Point",
          "Wide",
          "Point",
          "Point",
          "Blocked",
          "Point",
          "Point",
          "Goal",
          "Point",
          "Wide",
          "Short",
          "Point",
          "Blocked",
          "Wide",
          "Point",
          "Point",
          "Short",
          "Point",
          "Wide",
          "Point",
          "Wide",
          "Point",
          "Wide",
          "Point",
          "Point",
          "Point",
          "Point",
          "Wide",
          "Wide",
          "Point",
          "Wide",
          "Wide",
          "Point",
          "Point",
          "Point",
          "Point",
          "Wide",
          "Wide",
          "Point",
          "Point",
          "Wide",
          "Wide",
          "Wide",
          "Point",
          "Point",
          "Wide",
          "Wide",
          "Goal",
          "Wide",
          "Short",
          "Short",
          "Point",
          "Short",
          "Blocked",
          "Point",
          "Point",
          "Point",
          "Point",
          "Point",
          "Wide",
          "Wide",
          "Wide",
          "Point",
          "Point",
          "Point",
          "Goal",
          "Point",
          "Wide",
          "Point",
          "Point",
          "Short",
          "Goal",
          "Wide",
          "Point",
          "Point",
          "Wide",
          "Wide",
          "Point",
          "Wide",
          "Point",
          "Point",
          "Point",
          "Wide",
          "Saved",
          "Short",
          "Short",
          "Wide",
          "Point",
          "Saved",
          "Point",
          "Point",
          "Wide",
          "Wide",
          "Point",
          "Point",
          "Goal",
          "Short",
          "Wide",
          "Blocked",
          "Point",
          "Point",
          "Point",
          "Point",
          "Wide",
          "Point",
          "Point",
          "Point",
          "Point",
          "Point",
          "Saved",
          "Blocked",
          "Point",
          "Point",
          "Point",
          "Short",
          "Blocked",
          "Point",
          "Point",
          "Point",
          "Wide",
          "Point",
          "Point",
          "Short",
          "Goal",
          "Wide",
          "Point",
          "Point",
          "Short",
          "Point",
          "Point",
          "Point",
          "Wide",
          "Wide",
          "Wide",
          "Point",
          "Short",
          "Wide"
         ],
         "yaxis": "y"
        }
       ],
       "layout": {
        "barmode": "relative",
        "legend": {
         "tracegroupgap": 0
        },
        "margin": {
         "t": 60
        },
        "template": {
         "data": {
          "bar": [
           {
            "error_x": {
             "color": "#2a3f5f"
            },
            "error_y": {
             "color": "#2a3f5f"
            },
            "marker": {
             "line": {
              "color": "#E5ECF6",
              "width": 0.5
             },
             "pattern": {
              "fillmode": "overlay",
              "size": 10,
              "solidity": 0.2
             }
            },
            "type": "bar"
           }
          ],
          "barpolar": [
           {
            "marker": {
             "line": {
              "color": "#E5ECF6",
              "width": 0.5
             },
             "pattern": {
              "fillmode": "overlay",
              "size": 10,
              "solidity": 0.2
             }
            },
            "type": "barpolar"
           }
          ],
          "carpet": [
           {
            "aaxis": {
             "endlinecolor": "#2a3f5f",
             "gridcolor": "white",
             "linecolor": "white",
             "minorgridcolor": "white",
             "startlinecolor": "#2a3f5f"
            },
            "baxis": {
             "endlinecolor": "#2a3f5f",
             "gridcolor": "white",
             "linecolor": "white",
             "minorgridcolor": "white",
             "startlinecolor": "#2a3f5f"
            },
            "type": "carpet"
           }
          ],
          "choropleth": [
           {
            "colorbar": {
             "outlinewidth": 0,
             "ticks": ""
            },
            "type": "choropleth"
           }
          ],
          "contour": [
           {
            "colorbar": {
             "outlinewidth": 0,
             "ticks": ""
            },
            "colorscale": [
             [
              0,
              "#0d0887"
             ],
             [
              0.1111111111111111,
              "#46039f"
             ],
             [
              0.2222222222222222,
              "#7201a8"
             ],
             [
              0.3333333333333333,
              "#9c179e"
             ],
             [
              0.4444444444444444,
              "#bd3786"
             ],
             [
              0.5555555555555556,
              "#d8576b"
             ],
             [
              0.6666666666666666,
              "#ed7953"
             ],
             [
              0.7777777777777778,
              "#fb9f3a"
             ],
             [
              0.8888888888888888,
              "#fdca26"
             ],
             [
              1,
              "#f0f921"
             ]
            ],
            "type": "contour"
           }
          ],
          "contourcarpet": [
           {
            "colorbar": {
             "outlinewidth": 0,
             "ticks": ""
            },
            "type": "contourcarpet"
           }
          ],
          "heatmap": [
           {
            "colorbar": {
             "outlinewidth": 0,
             "ticks": ""
            },
            "colorscale": [
             [
              0,
              "#0d0887"
             ],
             [
              0.1111111111111111,
              "#46039f"
             ],
             [
              0.2222222222222222,
              "#7201a8"
             ],
             [
              0.3333333333333333,
              "#9c179e"
             ],
             [
              0.4444444444444444,
              "#bd3786"
             ],
             [
              0.5555555555555556,
              "#d8576b"
             ],
             [
              0.6666666666666666,
              "#ed7953"
             ],
             [
              0.7777777777777778,
              "#fb9f3a"
             ],
             [
              0.8888888888888888,
              "#fdca26"
             ],
             [
              1,
              "#f0f921"
             ]
            ],
            "type": "heatmap"
           }
          ],
          "heatmapgl": [
           {
            "colorbar": {
             "outlinewidth": 0,
             "ticks": ""
            },
            "colorscale": [
             [
              0,
              "#0d0887"
             ],
             [
              0.1111111111111111,
              "#46039f"
             ],
             [
              0.2222222222222222,
              "#7201a8"
             ],
             [
              0.3333333333333333,
              "#9c179e"
             ],
             [
              0.4444444444444444,
              "#bd3786"
             ],
             [
              0.5555555555555556,
              "#d8576b"
             ],
             [
              0.6666666666666666,
              "#ed7953"
             ],
             [
              0.7777777777777778,
              "#fb9f3a"
             ],
             [
              0.8888888888888888,
              "#fdca26"
             ],
             [
              1,
              "#f0f921"
             ]
            ],
            "type": "heatmapgl"
           }
          ],
          "histogram": [
           {
            "marker": {
             "pattern": {
              "fillmode": "overlay",
              "size": 10,
              "solidity": 0.2
             }
            },
            "type": "histogram"
           }
          ],
          "histogram2d": [
           {
            "colorbar": {
             "outlinewidth": 0,
             "ticks": ""
            },
            "colorscale": [
             [
              0,
              "#0d0887"
             ],
             [
              0.1111111111111111,
              "#46039f"
             ],
             [
              0.2222222222222222,
              "#7201a8"
             ],
             [
              0.3333333333333333,
              "#9c179e"
             ],
             [
              0.4444444444444444,
              "#bd3786"
             ],
             [
              0.5555555555555556,
              "#d8576b"
             ],
             [
              0.6666666666666666,
              "#ed7953"
             ],
             [
              0.7777777777777778,
              "#fb9f3a"
             ],
             [
              0.8888888888888888,
              "#fdca26"
             ],
             [
              1,
              "#f0f921"
             ]
            ],
            "type": "histogram2d"
           }
          ],
          "histogram2dcontour": [
           {
            "colorbar": {
             "outlinewidth": 0,
             "ticks": ""
            },
            "colorscale": [
             [
              0,
              "#0d0887"
             ],
             [
              0.1111111111111111,
              "#46039f"
             ],
             [
              0.2222222222222222,
              "#7201a8"
             ],
             [
              0.3333333333333333,
              "#9c179e"
             ],
             [
              0.4444444444444444,
              "#bd3786"
             ],
             [
              0.5555555555555556,
              "#d8576b"
             ],
             [
              0.6666666666666666,
              "#ed7953"
             ],
             [
              0.7777777777777778,
              "#fb9f3a"
             ],
             [
              0.8888888888888888,
              "#fdca26"
             ],
             [
              1,
              "#f0f921"
             ]
            ],
            "type": "histogram2dcontour"
           }
          ],
          "mesh3d": [
           {
            "colorbar": {
             "outlinewidth": 0,
             "ticks": ""
            },
            "type": "mesh3d"
           }
          ],
          "parcoords": [
           {
            "line": {
             "colorbar": {
              "outlinewidth": 0,
              "ticks": ""
             }
            },
            "type": "parcoords"
           }
          ],
          "pie": [
           {
            "automargin": true,
            "type": "pie"
           }
          ],
          "scatter": [
           {
            "marker": {
             "colorbar": {
              "outlinewidth": 0,
              "ticks": ""
             }
            },
            "type": "scatter"
           }
          ],
          "scatter3d": [
           {
            "line": {
             "colorbar": {
              "outlinewidth": 0,
              "ticks": ""
             }
            },
            "marker": {
             "colorbar": {
              "outlinewidth": 0,
              "ticks": ""
             }
            },
            "type": "scatter3d"
           }
          ],
          "scattercarpet": [
           {
            "marker": {
             "colorbar": {
              "outlinewidth": 0,
              "ticks": ""
             }
            },
            "type": "scattercarpet"
           }
          ],
          "scattergeo": [
           {
            "marker": {
             "colorbar": {
              "outlinewidth": 0,
              "ticks": ""
             }
            },
            "type": "scattergeo"
           }
          ],
          "scattergl": [
           {
            "marker": {
             "colorbar": {
              "outlinewidth": 0,
              "ticks": ""
             }
            },
            "type": "scattergl"
           }
          ],
          "scattermapbox": [
           {
            "marker": {
             "colorbar": {
              "outlinewidth": 0,
              "ticks": ""
             }
            },
            "type": "scattermapbox"
           }
          ],
          "scatterpolar": [
           {
            "marker": {
             "colorbar": {
              "outlinewidth": 0,
              "ticks": ""
             }
            },
            "type": "scatterpolar"
           }
          ],
          "scatterpolargl": [
           {
            "marker": {
             "colorbar": {
              "outlinewidth": 0,
              "ticks": ""
             }
            },
            "type": "scatterpolargl"
           }
          ],
          "scatterternary": [
           {
            "marker": {
             "colorbar": {
              "outlinewidth": 0,
              "ticks": ""
             }
            },
            "type": "scatterternary"
           }
          ],
          "surface": [
           {
            "colorbar": {
             "outlinewidth": 0,
             "ticks": ""
            },
            "colorscale": [
             [
              0,
              "#0d0887"
             ],
             [
              0.1111111111111111,
              "#46039f"
             ],
             [
              0.2222222222222222,
              "#7201a8"
             ],
             [
              0.3333333333333333,
              "#9c179e"
             ],
             [
              0.4444444444444444,
              "#bd3786"
             ],
             [
              0.5555555555555556,
              "#d8576b"
             ],
             [
              0.6666666666666666,
              "#ed7953"
             ],
             [
              0.7777777777777778,
              "#fb9f3a"
             ],
             [
              0.8888888888888888,
              "#fdca26"
             ],
             [
              1,
              "#f0f921"
             ]
            ],
            "type": "surface"
           }
          ],
          "table": [
           {
            "cells": {
             "fill": {
              "color": "#EBF0F8"
             },
             "line": {
              "color": "white"
             }
            },
            "header": {
             "fill": {
              "color": "#C8D4E3"
             },
             "line": {
              "color": "white"
             }
            },
            "type": "table"
           }
          ]
         },
         "layout": {
          "annotationdefaults": {
           "arrowcolor": "#2a3f5f",
           "arrowhead": 0,
           "arrowwidth": 1
          },
          "autotypenumbers": "strict",
          "coloraxis": {
           "colorbar": {
            "outlinewidth": 0,
            "ticks": ""
           }
          },
          "colorscale": {
           "diverging": [
            [
             0,
             "#8e0152"
            ],
            [
             0.1,
             "#c51b7d"
            ],
            [
             0.2,
             "#de77ae"
            ],
            [
             0.3,
             "#f1b6da"
            ],
            [
             0.4,
             "#fde0ef"
            ],
            [
             0.5,
             "#f7f7f7"
            ],
            [
             0.6,
             "#e6f5d0"
            ],
            [
             0.7,
             "#b8e186"
            ],
            [
             0.8,
             "#7fbc41"
            ],
            [
             0.9,
             "#4d9221"
            ],
            [
             1,
             "#276419"
            ]
           ],
           "sequential": [
            [
             0,
             "#0d0887"
            ],
            [
             0.1111111111111111,
             "#46039f"
            ],
            [
             0.2222222222222222,
             "#7201a8"
            ],
            [
             0.3333333333333333,
             "#9c179e"
            ],
            [
             0.4444444444444444,
             "#bd3786"
            ],
            [
             0.5555555555555556,
             "#d8576b"
            ],
            [
             0.6666666666666666,
             "#ed7953"
            ],
            [
             0.7777777777777778,
             "#fb9f3a"
            ],
            [
             0.8888888888888888,
             "#fdca26"
            ],
            [
             1,
             "#f0f921"
            ]
           ],
           "sequentialminus": [
            [
             0,
             "#0d0887"
            ],
            [
             0.1111111111111111,
             "#46039f"
            ],
            [
             0.2222222222222222,
             "#7201a8"
            ],
            [
             0.3333333333333333,
             "#9c179e"
            ],
            [
             0.4444444444444444,
             "#bd3786"
            ],
            [
             0.5555555555555556,
             "#d8576b"
            ],
            [
             0.6666666666666666,
             "#ed7953"
            ],
            [
             0.7777777777777778,
             "#fb9f3a"
            ],
            [
             0.8888888888888888,
             "#fdca26"
            ],
            [
             1,
             "#f0f921"
            ]
           ]
          },
          "colorway": [
           "#636efa",
           "#EF553B",
           "#00cc96",
           "#ab63fa",
           "#FFA15A",
           "#19d3f3",
           "#FF6692",
           "#B6E880",
           "#FF97FF",
           "#FECB52"
          ],
          "font": {
           "color": "#2a3f5f"
          },
          "geo": {
           "bgcolor": "white",
           "lakecolor": "white",
           "landcolor": "#E5ECF6",
           "showlakes": true,
           "showland": true,
           "subunitcolor": "white"
          },
          "hoverlabel": {
           "align": "left"
          },
          "hovermode": "closest",
          "mapbox": {
           "style": "light"
          },
          "paper_bgcolor": "white",
          "plot_bgcolor": "#E5ECF6",
          "polar": {
           "angularaxis": {
            "gridcolor": "white",
            "linecolor": "white",
            "ticks": ""
           },
           "bgcolor": "#E5ECF6",
           "radialaxis": {
            "gridcolor": "white",
            "linecolor": "white",
            "ticks": ""
           }
          },
          "scene": {
           "xaxis": {
            "backgroundcolor": "#E5ECF6",
            "gridcolor": "white",
            "gridwidth": 2,
            "linecolor": "white",
            "showbackground": true,
            "ticks": "",
            "zerolinecolor": "white"
           },
           "yaxis": {
            "backgroundcolor": "#E5ECF6",
            "gridcolor": "white",
            "gridwidth": 2,
            "linecolor": "white",
            "showbackground": true,
            "ticks": "",
            "zerolinecolor": "white"
           },
           "zaxis": {
            "backgroundcolor": "#E5ECF6",
            "gridcolor": "white",
            "gridwidth": 2,
            "linecolor": "white",
            "showbackground": true,
            "ticks": "",
            "zerolinecolor": "white"
           }
          },
          "shapedefaults": {
           "line": {
            "color": "#2a3f5f"
           }
          },
          "ternary": {
           "aaxis": {
            "gridcolor": "white",
            "linecolor": "white",
            "ticks": ""
           },
           "baxis": {
            "gridcolor": "white",
            "linecolor": "white",
            "ticks": ""
           },
           "bgcolor": "#E5ECF6",
           "caxis": {
            "gridcolor": "white",
            "linecolor": "white",
            "ticks": ""
           }
          },
          "title": {
           "x": 0.05
          },
          "xaxis": {
           "automargin": true,
           "gridcolor": "white",
           "linecolor": "white",
           "ticks": "",
           "title": {
            "standoff": 15
           },
           "zerolinecolor": "white",
           "zerolinewidth": 2
          },
          "yaxis": {
           "automargin": true,
           "gridcolor": "white",
           "linecolor": "white",
           "ticks": "",
           "title": {
            "standoff": 15
           },
           "zerolinecolor": "white",
           "zerolinewidth": 2
          }
         }
        },
        "xaxis": {
         "anchor": "y",
         "domain": [
          0,
          1
         ],
         "title": {
          "text": "sum of distance_from_goal"
         }
        },
        "yaxis": {
         "anchor": "x",
         "domain": [
          0,
          1
         ],
         "title": {
          "text": "shot_outcome"
         }
        }
       }
      },
      "text/html": [
       "<div>                            <div id=\"a601b9c1-baae-4f61-a9d4-a5cf6361b263\" class=\"plotly-graph-div\" style=\"height:525px; width:100%;\"></div>            <script type=\"text/javascript\">                require([\"plotly\"], function(Plotly) {                    window.PLOTLYENV=window.PLOTLYENV || {};                                    if (document.getElementById(\"a601b9c1-baae-4f61-a9d4-a5cf6361b263\")) {                    Plotly.newPlot(                        \"a601b9c1-baae-4f61-a9d4-a5cf6361b263\",                        [{\"alignmentgroup\":\"True\",\"bingroup\":\"y\",\"histfunc\":\"sum\",\"hovertemplate\":\"sum of distance_from_goal=%{x}<br>shot_outcome=%{y}<extra></extra>\",\"legendgroup\":\"\",\"marker\":{\"color\":\"#636efa\",\"pattern\":{\"shape\":\"\"}},\"name\":\"\",\"offsetgroup\":\"\",\"orientation\":\"h\",\"showlegend\":false,\"x\":[14.56021978,11.18033989,34.20526275,20.24845673,32.24903099,29.12043956,41.14608122,27.80287755,36.12478374,36.76955262,37.58989226,33.61547263,39.8246155,31.38470965,15.65247584,29.68164416,36.40054945,26.07680962,37.44329045,32.14031736,27.20294102,39.59797975,22.0,32.24903099,51.623638,25.96150997,39.81205847,18.11077028,31.06444913,20.24845673,36.76955262,41.18252056,12.36931688,47.85394446,33.61547263,36.40054945,15.65247584,38.60051813,37.48332963,42.3792402,34.0147027,37.33630941,38.0,40.19950248,29.69848481,42.19004622,14.2126704,18.68154169,34.525353,41.23105626,20.59126028,38.20994635,40.52159918,41.48493703,25.05992817,30.8058436,36.23534186,38.47076812,41.0,34.0,26.92582404,36.61966685,30.88689042,22.09072203,34.71310992,52.34500931,42.20189569,40.04996879,19.02629759,16.2788206,30.59411708,41.03656906,4.0,21.09502311,54.58937626,37.01351105,34.05877273,47.80167361,29.73213749,30.52867504,20.80865205,39.11521443,17.02938637,21.21320344,46.0,46.09772229,41.62931659,22.20360331,46.0,35.60898763,6.403124237,28.7923601,30.0,16.15549442,42.19004622,32.24903099,11.66190379,34.71310992,36.61966685,42.0,28.60069929,32.75667871,29.96664813,25.0,22.47220505,33.83784863,19.0,42.80186912,8.062257748,36.40054945,32.52691193,32.24903099,22.627417,11.0,47.4341649,13.60147051,39.59797975,42.95346319,11.66190379,19.79898987,12.64911064,41.34005322,46.69047012,30.08321791,46.32493929,19.6468827,50.21951812,19.84943324,39.40812099,12.52996409,40.24922359,19.20937271,26.92582404,45.54119015,14.2126704,17.80449381,47.75981575,10.44030651,32.55764119,38.27531842,13.89244399,15.13274595,33.37663854,34.05877273,36.23534186,29.73213749,36.138622,37.10795063,14.86606875,35.60898763,35.4682957,17.80449381,29.41088234,22.02271555,28.0,25.61249695,41.14608122,32.55764119,45.0,39.62322551,43.8634244,51.03920062],\"xaxis\":\"x\",\"y\":[\"Point\",\"Wide\",\"Point\",\"Post\",\"Short\",\"Point\",\"Point\",\"Point\",\"Wide\",\"Short\",\"Point\",\"Point\",\"Point\",\"Wide\",\"Point\",\"Point\",\"Point\",\"Point\",\"Wide\",\"Wide\",\"Wide\",\"Wide\",\"Point\",\"Short\",\"Short\",\"Point\",\"Wide\",\"Point\",\"Point\",\"Blocked\",\"Point\",\"Point\",\"Goal\",\"Point\",\"Wide\",\"Short\",\"Point\",\"Blocked\",\"Wide\",\"Point\",\"Point\",\"Short\",\"Point\",\"Wide\",\"Point\",\"Wide\",\"Point\",\"Wide\",\"Point\",\"Point\",\"Point\",\"Point\",\"Wide\",\"Wide\",\"Point\",\"Wide\",\"Wide\",\"Point\",\"Point\",\"Point\",\"Point\",\"Wide\",\"Wide\",\"Point\",\"Point\",\"Wide\",\"Wide\",\"Wide\",\"Point\",\"Point\",\"Wide\",\"Wide\",\"Goal\",\"Wide\",\"Short\",\"Short\",\"Point\",\"Short\",\"Blocked\",\"Point\",\"Point\",\"Point\",\"Point\",\"Point\",\"Wide\",\"Wide\",\"Wide\",\"Point\",\"Point\",\"Point\",\"Goal\",\"Point\",\"Wide\",\"Point\",\"Point\",\"Short\",\"Goal\",\"Wide\",\"Point\",\"Point\",\"Wide\",\"Wide\",\"Point\",\"Wide\",\"Point\",\"Point\",\"Point\",\"Wide\",\"Saved\",\"Short\",\"Short\",\"Wide\",\"Point\",\"Saved\",\"Point\",\"Point\",\"Wide\",\"Wide\",\"Point\",\"Point\",\"Goal\",\"Short\",\"Wide\",\"Blocked\",\"Point\",\"Point\",\"Point\",\"Point\",\"Wide\",\"Point\",\"Point\",\"Point\",\"Point\",\"Point\",\"Saved\",\"Blocked\",\"Point\",\"Point\",\"Point\",\"Short\",\"Blocked\",\"Point\",\"Point\",\"Point\",\"Wide\",\"Point\",\"Point\",\"Short\",\"Goal\",\"Wide\",\"Point\",\"Point\",\"Short\",\"Point\",\"Point\",\"Point\",\"Wide\",\"Wide\",\"Wide\",\"Point\",\"Short\",\"Wide\"],\"yaxis\":\"y\",\"type\":\"histogram\"}],                        {\"template\":{\"data\":{\"bar\":[{\"error_x\":{\"color\":\"#2a3f5f\"},\"error_y\":{\"color\":\"#2a3f5f\"},\"marker\":{\"line\":{\"color\":\"#E5ECF6\",\"width\":0.5},\"pattern\":{\"fillmode\":\"overlay\",\"size\":10,\"solidity\":0.2}},\"type\":\"bar\"}],\"barpolar\":[{\"marker\":{\"line\":{\"color\":\"#E5ECF6\",\"width\":0.5},\"pattern\":{\"fillmode\":\"overlay\",\"size\":10,\"solidity\":0.2}},\"type\":\"barpolar\"}],\"carpet\":[{\"aaxis\":{\"endlinecolor\":\"#2a3f5f\",\"gridcolor\":\"white\",\"linecolor\":\"white\",\"minorgridcolor\":\"white\",\"startlinecolor\":\"#2a3f5f\"},\"baxis\":{\"endlinecolor\":\"#2a3f5f\",\"gridcolor\":\"white\",\"linecolor\":\"white\",\"minorgridcolor\":\"white\",\"startlinecolor\":\"#2a3f5f\"},\"type\":\"carpet\"}],\"choropleth\":[{\"colorbar\":{\"outlinewidth\":0,\"ticks\":\"\"},\"type\":\"choropleth\"}],\"contour\":[{\"colorbar\":{\"outlinewidth\":0,\"ticks\":\"\"},\"colorscale\":[[0.0,\"#0d0887\"],[0.1111111111111111,\"#46039f\"],[0.2222222222222222,\"#7201a8\"],[0.3333333333333333,\"#9c179e\"],[0.4444444444444444,\"#bd3786\"],[0.5555555555555556,\"#d8576b\"],[0.6666666666666666,\"#ed7953\"],[0.7777777777777778,\"#fb9f3a\"],[0.8888888888888888,\"#fdca26\"],[1.0,\"#f0f921\"]],\"type\":\"contour\"}],\"contourcarpet\":[{\"colorbar\":{\"outlinewidth\":0,\"ticks\":\"\"},\"type\":\"contourcarpet\"}],\"heatmap\":[{\"colorbar\":{\"outlinewidth\":0,\"ticks\":\"\"},\"colorscale\":[[0.0,\"#0d0887\"],[0.1111111111111111,\"#46039f\"],[0.2222222222222222,\"#7201a8\"],[0.3333333333333333,\"#9c179e\"],[0.4444444444444444,\"#bd3786\"],[0.5555555555555556,\"#d8576b\"],[0.6666666666666666,\"#ed7953\"],[0.7777777777777778,\"#fb9f3a\"],[0.8888888888888888,\"#fdca26\"],[1.0,\"#f0f921\"]],\"type\":\"heatmap\"}],\"heatmapgl\":[{\"colorbar\":{\"outlinewidth\":0,\"ticks\":\"\"},\"colorscale\":[[0.0,\"#0d0887\"],[0.1111111111111111,\"#46039f\"],[0.2222222222222222,\"#7201a8\"],[0.3333333333333333,\"#9c179e\"],[0.4444444444444444,\"#bd3786\"],[0.5555555555555556,\"#d8576b\"],[0.6666666666666666,\"#ed7953\"],[0.7777777777777778,\"#fb9f3a\"],[0.8888888888888888,\"#fdca26\"],[1.0,\"#f0f921\"]],\"type\":\"heatmapgl\"}],\"histogram\":[{\"marker\":{\"pattern\":{\"fillmode\":\"overlay\",\"size\":10,\"solidity\":0.2}},\"type\":\"histogram\"}],\"histogram2d\":[{\"colorbar\":{\"outlinewidth\":0,\"ticks\":\"\"},\"colorscale\":[[0.0,\"#0d0887\"],[0.1111111111111111,\"#46039f\"],[0.2222222222222222,\"#7201a8\"],[0.3333333333333333,\"#9c179e\"],[0.4444444444444444,\"#bd3786\"],[0.5555555555555556,\"#d8576b\"],[0.6666666666666666,\"#ed7953\"],[0.7777777777777778,\"#fb9f3a\"],[0.8888888888888888,\"#fdca26\"],[1.0,\"#f0f921\"]],\"type\":\"histogram2d\"}],\"histogram2dcontour\":[{\"colorbar\":{\"outlinewidth\":0,\"ticks\":\"\"},\"colorscale\":[[0.0,\"#0d0887\"],[0.1111111111111111,\"#46039f\"],[0.2222222222222222,\"#7201a8\"],[0.3333333333333333,\"#9c179e\"],[0.4444444444444444,\"#bd3786\"],[0.5555555555555556,\"#d8576b\"],[0.6666666666666666,\"#ed7953\"],[0.7777777777777778,\"#fb9f3a\"],[0.8888888888888888,\"#fdca26\"],[1.0,\"#f0f921\"]],\"type\":\"histogram2dcontour\"}],\"mesh3d\":[{\"colorbar\":{\"outlinewidth\":0,\"ticks\":\"\"},\"type\":\"mesh3d\"}],\"parcoords\":[{\"line\":{\"colorbar\":{\"outlinewidth\":0,\"ticks\":\"\"}},\"type\":\"parcoords\"}],\"pie\":[{\"automargin\":true,\"type\":\"pie\"}],\"scatter\":[{\"marker\":{\"colorbar\":{\"outlinewidth\":0,\"ticks\":\"\"}},\"type\":\"scatter\"}],\"scatter3d\":[{\"line\":{\"colorbar\":{\"outlinewidth\":0,\"ticks\":\"\"}},\"marker\":{\"colorbar\":{\"outlinewidth\":0,\"ticks\":\"\"}},\"type\":\"scatter3d\"}],\"scattercarpet\":[{\"marker\":{\"colorbar\":{\"outlinewidth\":0,\"ticks\":\"\"}},\"type\":\"scattercarpet\"}],\"scattergeo\":[{\"marker\":{\"colorbar\":{\"outlinewidth\":0,\"ticks\":\"\"}},\"type\":\"scattergeo\"}],\"scattergl\":[{\"marker\":{\"colorbar\":{\"outlinewidth\":0,\"ticks\":\"\"}},\"type\":\"scattergl\"}],\"scattermapbox\":[{\"marker\":{\"colorbar\":{\"outlinewidth\":0,\"ticks\":\"\"}},\"type\":\"scattermapbox\"}],\"scatterpolar\":[{\"marker\":{\"colorbar\":{\"outlinewidth\":0,\"ticks\":\"\"}},\"type\":\"scatterpolar\"}],\"scatterpolargl\":[{\"marker\":{\"colorbar\":{\"outlinewidth\":0,\"ticks\":\"\"}},\"type\":\"scatterpolargl\"}],\"scatterternary\":[{\"marker\":{\"colorbar\":{\"outlinewidth\":0,\"ticks\":\"\"}},\"type\":\"scatterternary\"}],\"surface\":[{\"colorbar\":{\"outlinewidth\":0,\"ticks\":\"\"},\"colorscale\":[[0.0,\"#0d0887\"],[0.1111111111111111,\"#46039f\"],[0.2222222222222222,\"#7201a8\"],[0.3333333333333333,\"#9c179e\"],[0.4444444444444444,\"#bd3786\"],[0.5555555555555556,\"#d8576b\"],[0.6666666666666666,\"#ed7953\"],[0.7777777777777778,\"#fb9f3a\"],[0.8888888888888888,\"#fdca26\"],[1.0,\"#f0f921\"]],\"type\":\"surface\"}],\"table\":[{\"cells\":{\"fill\":{\"color\":\"#EBF0F8\"},\"line\":{\"color\":\"white\"}},\"header\":{\"fill\":{\"color\":\"#C8D4E3\"},\"line\":{\"color\":\"white\"}},\"type\":\"table\"}]},\"layout\":{\"annotationdefaults\":{\"arrowcolor\":\"#2a3f5f\",\"arrowhead\":0,\"arrowwidth\":1},\"autotypenumbers\":\"strict\",\"coloraxis\":{\"colorbar\":{\"outlinewidth\":0,\"ticks\":\"\"}},\"colorscale\":{\"diverging\":[[0,\"#8e0152\"],[0.1,\"#c51b7d\"],[0.2,\"#de77ae\"],[0.3,\"#f1b6da\"],[0.4,\"#fde0ef\"],[0.5,\"#f7f7f7\"],[0.6,\"#e6f5d0\"],[0.7,\"#b8e186\"],[0.8,\"#7fbc41\"],[0.9,\"#4d9221\"],[1,\"#276419\"]],\"sequential\":[[0.0,\"#0d0887\"],[0.1111111111111111,\"#46039f\"],[0.2222222222222222,\"#7201a8\"],[0.3333333333333333,\"#9c179e\"],[0.4444444444444444,\"#bd3786\"],[0.5555555555555556,\"#d8576b\"],[0.6666666666666666,\"#ed7953\"],[0.7777777777777778,\"#fb9f3a\"],[0.8888888888888888,\"#fdca26\"],[1.0,\"#f0f921\"]],\"sequentialminus\":[[0.0,\"#0d0887\"],[0.1111111111111111,\"#46039f\"],[0.2222222222222222,\"#7201a8\"],[0.3333333333333333,\"#9c179e\"],[0.4444444444444444,\"#bd3786\"],[0.5555555555555556,\"#d8576b\"],[0.6666666666666666,\"#ed7953\"],[0.7777777777777778,\"#fb9f3a\"],[0.8888888888888888,\"#fdca26\"],[1.0,\"#f0f921\"]]},\"colorway\":[\"#636efa\",\"#EF553B\",\"#00cc96\",\"#ab63fa\",\"#FFA15A\",\"#19d3f3\",\"#FF6692\",\"#B6E880\",\"#FF97FF\",\"#FECB52\"],\"font\":{\"color\":\"#2a3f5f\"},\"geo\":{\"bgcolor\":\"white\",\"lakecolor\":\"white\",\"landcolor\":\"#E5ECF6\",\"showlakes\":true,\"showland\":true,\"subunitcolor\":\"white\"},\"hoverlabel\":{\"align\":\"left\"},\"hovermode\":\"closest\",\"mapbox\":{\"style\":\"light\"},\"paper_bgcolor\":\"white\",\"plot_bgcolor\":\"#E5ECF6\",\"polar\":{\"angularaxis\":{\"gridcolor\":\"white\",\"linecolor\":\"white\",\"ticks\":\"\"},\"bgcolor\":\"#E5ECF6\",\"radialaxis\":{\"gridcolor\":\"white\",\"linecolor\":\"white\",\"ticks\":\"\"}},\"scene\":{\"xaxis\":{\"backgroundcolor\":\"#E5ECF6\",\"gridcolor\":\"white\",\"gridwidth\":2,\"linecolor\":\"white\",\"showbackground\":true,\"ticks\":\"\",\"zerolinecolor\":\"white\"},\"yaxis\":{\"backgroundcolor\":\"#E5ECF6\",\"gridcolor\":\"white\",\"gridwidth\":2,\"linecolor\":\"white\",\"showbackground\":true,\"ticks\":\"\",\"zerolinecolor\":\"white\"},\"zaxis\":{\"backgroundcolor\":\"#E5ECF6\",\"gridcolor\":\"white\",\"gridwidth\":2,\"linecolor\":\"white\",\"showbackground\":true,\"ticks\":\"\",\"zerolinecolor\":\"white\"}},\"shapedefaults\":{\"line\":{\"color\":\"#2a3f5f\"}},\"ternary\":{\"aaxis\":{\"gridcolor\":\"white\",\"linecolor\":\"white\",\"ticks\":\"\"},\"baxis\":{\"gridcolor\":\"white\",\"linecolor\":\"white\",\"ticks\":\"\"},\"bgcolor\":\"#E5ECF6\",\"caxis\":{\"gridcolor\":\"white\",\"linecolor\":\"white\",\"ticks\":\"\"}},\"title\":{\"x\":0.05},\"xaxis\":{\"automargin\":true,\"gridcolor\":\"white\",\"linecolor\":\"white\",\"ticks\":\"\",\"title\":{\"standoff\":15},\"zerolinecolor\":\"white\",\"zerolinewidth\":2},\"yaxis\":{\"automargin\":true,\"gridcolor\":\"white\",\"linecolor\":\"white\",\"ticks\":\"\",\"title\":{\"standoff\":15},\"zerolinecolor\":\"white\",\"zerolinewidth\":2}}},\"xaxis\":{\"anchor\":\"y\",\"domain\":[0.0,1.0],\"title\":{\"text\":\"sum of distance_from_goal\"}},\"yaxis\":{\"anchor\":\"x\",\"domain\":[0.0,1.0],\"title\":{\"text\":\"shot_outcome\"}},\"legend\":{\"tracegroupgap\":0},\"margin\":{\"t\":60},\"barmode\":\"relative\"},                        {\"responsive\": true}                    ).then(function(){\n",
       "                            \n",
       "var gd = document.getElementById('a601b9c1-baae-4f61-a9d4-a5cf6361b263');\n",
       "var x = new MutationObserver(function (mutations, observer) {{\n",
       "        var display = window.getComputedStyle(gd).display;\n",
       "        if (!display || display === 'none') {{\n",
       "            console.log([gd, 'removed!']);\n",
       "            Plotly.purge(gd);\n",
       "            observer.disconnect();\n",
       "        }}\n",
       "}});\n",
       "\n",
       "// Listen for the removal of the full notebook cells\n",
       "var notebookContainer = gd.closest('#notebook-container');\n",
       "if (notebookContainer) {{\n",
       "    x.observe(notebookContainer, {childList: true});\n",
       "}}\n",
       "\n",
       "// Listen for the clearing of the current output cell\n",
       "var outputEl = gd.closest('.output');\n",
       "if (outputEl) {{\n",
       "    x.observe(outputEl, {childList: true});\n",
       "}}\n",
       "\n",
       "                        })                };                });            </script>        </div>"
      ]
     },
     "metadata": {},
     "output_type": "display_data"
    }
   ],
   "source": [
    "# import plotly.express as px\n",
    "fig = px.histogram(df, x=\"distance_from_goal\",y = \"shot_outcome\")\n",
    "fig.show()"
   ]
  },
  {
   "cell_type": "code",
   "execution_count": null,
   "metadata": {},
   "outputs": [],
   "source": []
  }
 ],
 "metadata": {
  "interpreter": {
   "hash": "b3ba2566441a7c06988d0923437866b63cedc61552a5af99d1f4fb67d367b25f"
  },
  "kernelspec": {
   "display_name": "Python 3",
   "language": "python",
   "name": "python3"
  },
  "language_info": {
   "codemirror_mode": {
    "name": "ipython",
    "version": 3
   },
   "file_extension": ".py",
   "mimetype": "text/x-python",
   "name": "python",
   "nbconvert_exporter": "python",
   "pygments_lexer": "ipython3",
   "version": "3.8.8"
  }
 },
 "nbformat": 4,
 "nbformat_minor": 2
}
